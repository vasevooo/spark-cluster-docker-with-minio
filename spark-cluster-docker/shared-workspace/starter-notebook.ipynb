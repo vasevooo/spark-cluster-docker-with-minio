{
 "cells": [
  {
   "cell_type": "code",
   "execution_count": 1,
   "id": "bfdf2342",
   "metadata": {},
   "outputs": [
    {
     "name": "stderr",
     "output_type": "stream",
     "text": [
      "25/05/26 08:54:09 WARN NativeCodeLoader: Unable to load native-hadoop library for your platform... using builtin-java classes where applicable\n",
      "Using Spark's default log4j profile: org/apache/spark/log4j-defaults.properties\n",
      "Setting default log level to \"WARN\".\n",
      "To adjust logging level use sc.setLogLevel(newLevel). For SparkR, use setLogLevel(newLevel).\n"
     ]
    }
   ],
   "source": [
    "from pyspark.sql import SparkSession\n",
    "\n",
    "spark = SparkSession.\\\n",
    "        builder.\\\n",
    "        appName(\"pyspark-notebook\").\\\n",
    "        master(\"spark://jupyter-spark-master:7077\").\\\n",
    "        getOrCreate()"
   ]
  },
  {
   "cell_type": "code",
   "execution_count": 2,
   "id": "0cd14ba4",
   "metadata": {},
   "outputs": [
    {
     "name": "stderr",
     "output_type": "stream",
     "text": [
      "                                                                                \r"
     ]
    },
    {
     "name": "stdout",
     "output_type": "stream",
     "text": [
      "+------------+---------+------------+----------+----------------+--------------------+------+-------------+----------+\n",
      "|Acceleration|Cylinders|Displacement|Horsepower|Miles_per_Gallon|                Name|Origin|Weight_in_lbs|      Year|\n",
      "+------------+---------+------------+----------+----------------+--------------------+------+-------------+----------+\n",
      "|        12.0|        8|       307.0|       130|            18.0|chevrolet chevell...|   USA|         3504|1970-01-01|\n",
      "|        11.5|        8|       350.0|       165|            15.0|   buick skylark 320|   USA|         3693|1970-01-01|\n",
      "|        11.0|        8|       318.0|       150|            18.0|  plymouth satellite|   USA|         3436|1970-01-01|\n",
      "|        12.0|        8|       304.0|       150|            16.0|       amc rebel sst|   USA|         3433|1970-01-01|\n",
      "|        10.5|        8|       302.0|       140|            17.0|         ford torino|   USA|         3449|1970-01-01|\n",
      "|        10.0|        8|       429.0|       198|            15.0|    ford galaxie 500|   USA|         4341|1970-01-01|\n",
      "|         9.0|        8|       454.0|       220|            14.0|    chevrolet impala|   USA|         4354|1970-01-01|\n",
      "|         8.5|        8|       440.0|       215|            14.0|   plymouth fury iii|   USA|         4312|1970-01-01|\n",
      "|        10.0|        8|       455.0|       225|            14.0|    pontiac catalina|   USA|         4425|1970-01-01|\n",
      "|         8.5|        8|       390.0|       190|            15.0|  amc ambassador dpl|   USA|         3850|1970-01-01|\n",
      "|        17.5|        4|       133.0|       115|            null|citroen ds-21 pallas|Europe|         3090|1970-01-01|\n",
      "|        11.5|        8|       350.0|       165|            null|chevrolet chevell...|   USA|         4142|1970-01-01|\n",
      "|        11.0|        8|       351.0|       153|            null|    ford torino (sw)|   USA|         4034|1970-01-01|\n",
      "|        10.5|        8|       383.0|       175|            null|plymouth satellit...|   USA|         4166|1970-01-01|\n",
      "|        11.0|        8|       360.0|       175|            null|  amc rebel sst (sw)|   USA|         3850|1970-01-01|\n",
      "|        10.0|        8|       383.0|       170|            15.0| dodge challenger se|   USA|         3563|1970-01-01|\n",
      "|         8.0|        8|       340.0|       160|            14.0|  plymouth 'cuda 340|   USA|         3609|1970-01-01|\n",
      "|         8.0|        8|       302.0|       140|            null|ford mustang boss...|   USA|         3353|1970-01-01|\n",
      "|         9.5|        8|       400.0|       150|            15.0|chevrolet monte c...|   USA|         3761|1970-01-01|\n",
      "|        10.0|        8|       455.0|       225|            14.0|buick estate wago...|   USA|         3086|1970-01-01|\n",
      "+------------+---------+------------+----------+----------------+--------------------+------+-------------+----------+\n",
      "only showing top 20 rows\n",
      "\n"
     ]
    }
   ],
   "source": [
    "df = spark.read.json('data/cars.json')\n",
    "df.show()"
   ]
  },
  {
   "cell_type": "code",
   "execution_count": 3,
   "id": "9177ff00",
   "metadata": {},
   "outputs": [
    {
     "data": {
      "text/plain": [
       "406"
      ]
     },
     "execution_count": 3,
     "metadata": {},
     "output_type": "execute_result"
    }
   ],
   "source": [
    "df.count()"
   ]
  }
 ],
 "metadata": {
  "kernelspec": {
   "display_name": "Python 3 (ipykernel)",
   "language": "python",
   "name": "python3"
  },
  "language_info": {
   "codemirror_mode": {
    "name": "ipython",
    "version": 3
   },
   "file_extension": ".py",
   "mimetype": "text/x-python",
   "name": "python",
   "nbconvert_exporter": "python",
   "pygments_lexer": "ipython3",
   "version": "3.9.2"
  }
 },
 "nbformat": 4,
 "nbformat_minor": 5
}
